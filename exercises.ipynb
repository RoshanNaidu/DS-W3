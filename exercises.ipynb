{
 "cells": [
  {
   "cell_type": "markdown",
   "id": "0dead82f",
   "metadata": {},
   "source": [
    "<font color='darkred'> Unless otherwise noted, **this notebook will not be reviewed or autograded.**</font> You are welcome to use it for scratchwork, but **only the files listed in the exercises will be checked.**\n",
    "\n",
    "---\n",
    "\n",
    "# Exercises\n",
    "\n",
    "For these exercises, add your functions to the *apputil\\.py* file. If you like, you're welcome to adjust the *app\\.py* file, but it is not required."
   ]
  },
  {
   "cell_type": "markdown",
   "id": "a7ef09a6",
   "metadata": {},
   "source": [
    "## Notes on Recursion\n",
    "\n",
    "A [recursive function](https://www.w3schools.com/python/gloss_python_function_recursion.asp) is one which calls itself.\n",
    "\n",
    "1. When the function is called, your CPU runs through each line of code until the function needs to be called again.\n",
    "2. At that point, all variables are saved in memory, and the function runs through each line of code again until the function is called (again, but with a different passed argument), and so on.\n",
    "3. Eventually, this process will stop at the \"bottom of the **stack**\", where the function doesn't get a chance to call itself again (likely because of some condition un/met by the latest passed argument).\n",
    "4. Then, your CPU will work its way back up the stack to the final result. For example, take a look at [this visual example](https://realpython.com/python-recursion/#calculate-factorial) of calculating 4!.\n",
    "\n",
    "When you write these functions, keep two things in mind:\n",
    "\n",
    "- You will need a built-in stopping point (i.e., the \"bottom\"), where your function returns some result before it calls itself.\n",
    "- **Don't think too hard about this.** Recursion can be perplexing to conceptualize when writing the code. So, when you call the function inside the function, think about it as a magical \"hidden\" function that has already done what you want it to do.\n",
    "- [Python Tutor](https://pythontutor.com/) ([editor](https://pythontutor.com/visualize.html#mode=edit)) can be a helpful resource for this exercise!\n",
    "\n",
    "## Exercise 1\n",
    "\n",
    "The Fibonacci Series starts with 0 and 1. Each of the following numbers are the sum of the previous two numbers in the series:\n",
    "\n",
    "`0 1 1 2 3 5 8 13 21 34 ...`\n",
    "\n",
    "So, `fibonacci(9) = 34`.\n",
    "\n",
    "Write a recursive function (`fibonacci`) that, given `n`, will return the `n`th number of the Fibonacci Series.\n",
    "\n",
    "*Test your function using Google or any other tool that can calculate the Fibonacci Series.*"
   ]
  },
  {
   "cell_type": "code",
   "execution_count": 34,
   "id": "10b9210f",
   "metadata": {},
   "outputs": [
    {
     "name": "stdout",
     "output_type": "stream",
     "text": [
      "55\n",
      "6765\n",
      "832040\n",
      "9227465\n"
     ]
    }
   ],
   "source": [
    "def fibonacci(n):\n",
    "    if n == 0:\n",
    "        return 0\n",
    "    elif n == 1:\n",
    "        return 1\n",
    "    else:\n",
    "        return fibonacci(n - 1) + fibonacci(n - 2)\n",
    "\n",
    "# Try test cases\n",
    "print(fibonacci(10))  # Output: 55\n",
    "print(fibonacci(20))  # Output: 6765\n",
    "print(fibonacci(30))  # Output: 832040\n",
    "print(fibonacci(35))  # Output: 9227465"
   ]
  },
  {
   "cell_type": "markdown",
   "id": "4bef64e9",
   "metadata": {},
   "source": [
    "\n",
    "## Exercise 2\n",
    "\n",
    "Write a (single) recursive function, `to_binary()`, that [converts](https://en.wikipedia.org/wiki/Binary_number#Conversion_to_and_from_other_numeral_systems) an integer into its [binary](https://en.wikipedia.org/wiki/Binary_number) representation. So, for example:\n",
    "\n",
    "```python\n",
    "to_binary(2)   -->  10\n",
    "to_binary(12)  -->  1100\n",
    "```\n",
    "\n",
    "*Note: you can test your function with the built in `bin()` function.*"
   ]
  },
  {
   "cell_type": "code",
   "execution_count": null,
   "id": "eb033460",
   "metadata": {},
   "outputs": [
    {
     "name": "stdout",
     "output_type": "stream",
     "text": [
      "1010\n",
      "10100\n",
      "11110\n",
      "100011\n"
     ]
    }
   ],
   "source": [
    "def to_binary(n):\n",
    "    if n == 0:\n",
    "        return \"0\"\n",
    "    elif n == 1:\n",
    "        return \"1\"\n",
    "    else:\n",
    "        return to_binary(n // 2) + str(n % 2)\n",
    "\n",
    "# Try test cases\n",
    "print(to_binary(10))  # Output: \"1010\" \n",
    "print(to_binary(20))  # Output: \"10100\"\n",
    "print(to_binary(30))  # Output: \"11110\"\n",
    "print(to_binary(35))  # Output: \"100011\"\n"
   ]
  },
  {
   "cell_type": "markdown",
   "id": "dd991538",
   "metadata": {},
   "source": [
    "## Exercise 3 \n",
    "\n",
    "Use the raw Bellevue Almshouse Dataset (`df_bellevue`) extracted at the top of the lab (i.e., with `pd.read_csv ...`).\n",
    "\n",
    "**Write a function for each of the following tasks. Name these functions `task_i()`** (i.e., without any input arguments).\n",
    "\n",
    "1. Return a list of all column names, *sorted* such that the first column has the *least* missing values, and the last column has the *most* missing values (use the raw column names).\n",
    "   - *Note: there is an issue with the `gender` column you'll need to remedy first ...*\n",
    "2. Return a **data frame** with two columns:\n",
    "   - the year (for each year in the data), `year`\n",
    "   - the total number of entries (immigrant admissions) for each year, `total_admissions`\n",
    "3. Return a **series** with:\n",
    "   - Index: gender (for each gender in the data)\n",
    "   - Values: the average age for the indexed gender.\n",
    "4. Return a list of the 5 most common professions *in order of prevalence* (so, the most common is first).\n",
    "\n",
    "For each of these, if there are messy data issues, use the `print` statement to explain.\n"
   ]
  },
  {
   "cell_type": "code",
   "execution_count": 36,
   "id": "e18e28aa",
   "metadata": {},
   "outputs": [
    {
     "name": "stdout",
     "output_type": "stream",
     "text": [
      "      date_in first_name  last_name   age          disease profession gender  \\\n",
      "0  1847-04-17       Mary  Gallagher  28.0  recent emigrant    married      w   \n",
      "1  1847-04-08       John  Sanin (?)  19.0  recent emigrant    laborer      m   \n",
      "2  1847-04-17    Anthony      Clark  60.0  recent emigrant    laborer      m   \n",
      "3  1847-04-08   Lawrence     Feeney  32.0  recent emigrant    laborer      m   \n",
      "4  1847-04-13      Henry      Joyce  21.0  recent emigrant        NaN      m   \n",
      "\n",
      "                     children  \n",
      "0         Child Alana 10 days  \n",
      "1              Catherine 2 mo  \n",
      "2  Charles Riley afed 10 days  \n",
      "3                       Child  \n",
      "4                  Child 1 mo  \n"
     ]
    }
   ],
   "source": [
    "import pandas as pd\n",
    "\n",
    "# Load the dataset directly from the URL in exercises.ipynb\n",
    "url = 'https://github.com/melaniewalsh/Intro-Cultural-Analytics/raw/master/book/data/bellevue_almshouse_modified.csv'\n",
    "df_bellevue = pd.read_csv(url)\n",
    "\n",
    "# Verify the data is loaded\n",
    "print(df_bellevue.head())"
   ]
  },
  {
   "cell_type": "code",
   "execution_count": null,
   "id": "4dd732c6",
   "metadata": {},
   "outputs": [],
   "source": [
    "# Task 1: Return sorted column names by missing values\n",
    "def task_1():\n",
    "    # First, clean the 'gender' column (assuming it contains missing values or incorrect entries)\n",
    "    if 'gender' in df_bellevue.columns:\n",
    "        # Replace any non-valid entries in 'gender' (if necessary) or drop rows with missing 'gender'\n",
    "        df_bellevue['gender'] = df_bellevue['gender'].fillna('Unknown')\n",
    "    \n",
    "    # Sort columns based on the number of missing values (ascending order: least missing to most missing)\n",
    "    missing_values = df_bellevue.isnull().sum()\n",
    "    sorted_columns = missing_values.sort_values().index.tolist()\n",
    "    \n",
    "    print(f\"Sorted columns by missing values: {sorted_columns}\")\n",
    "    return sorted_columns"
   ]
  },
  {
   "cell_type": "code",
   "execution_count": 38,
   "id": "f9487410",
   "metadata": {},
   "outputs": [],
   "source": [
    "# Task 2: Return a DataFrame with year and total admissions\n",
    "def task_2():\n",
    "    if 'year' not in df_bellevue.columns or 'admissions' not in df_bellevue.columns:\n",
    "        print(\"Error: 'year' or 'admissions' column missing.\")\n",
    "        return None\n",
    "    \n",
    "    # Group by 'year' and sum admissions\n",
    "    total_admissions = df_bellevue.groupby('year')['admissions'].sum().reset_index()\n",
    "    total_admissions.columns = ['year', 'total_admissions']\n",
    "    \n",
    "    print(f\"Yearly admissions:\\n{total_admissions}\")\n",
    "    return total_admissions\n"
   ]
  },
  {
   "cell_type": "code",
   "execution_count": 39,
   "id": "0f8466fd",
   "metadata": {},
   "outputs": [],
   "source": [
    "# Task 3: Return average age for each gender\n",
    "def task_3():\n",
    "    if 'gender' not in df_bellevue.columns or 'age' not in df_bellevue.columns:\n",
    "        print(\"Error: 'gender' or 'age' column missing.\")\n",
    "        return None\n",
    "    \n",
    "    # Group by 'gender' and calculate average age\n",
    "    avg_age_by_gender = df_bellevue.groupby('gender')['age'].mean()\n",
    "    \n",
    "    print(f\"Average age by gender:\\n{avg_age_by_gender}\")\n",
    "    return avg_age_by_gender\n"
   ]
  },
  {
   "cell_type": "code",
   "execution_count": null,
   "id": "8684d8ef",
   "metadata": {},
   "outputs": [],
   "source": [
    "# Task 4: Return the 5 most common professions\n",
    "def task_4():\n",
    "    if 'profession' not in df_bellevue.columns:\n",
    "        print(\"Error: 'profession' column missing.\")\n",
    "        return None\n",
    "    \n",
    "    # Get the top 5 most common professions\n",
    "    most_common_professions = df_bellevue['profession'].value_counts().head(5)\n",
    "    \n",
    "    # Convert the Series to a list\n",
    "    most_common_professions_list = most_common_professions.index.tolist()\n",
    "    \n",
    "    print(f\"Top 5 most common professions:\\n{most_common_professions}\")\n",
    "    return most_common_professions_list"
   ]
  },
  {
   "cell_type": "code",
   "execution_count": null,
   "id": "44a05610",
   "metadata": {},
   "outputs": [
    {
     "name": "stdout",
     "output_type": "stream",
     "text": [
      "Task 1: Sorted column names by missing values:\n",
      "Sorted columns by missing values: ['date_in', 'last_name', 'gender', 'first_name', 'age', 'profession', 'disease', 'children']\n",
      "['date_in', 'last_name', 'gender', 'first_name', 'age', 'profession', 'disease', 'children']\n",
      "\n",
      "\n",
      "Task 2: Yearly total admissions:\n",
      "Error: 'year' or 'admissions' column missing.\n",
      "None\n",
      "\n",
      "\n",
      "Task 3: Average age by gender:\n",
      "Average age by gender:\n",
      "gender\n",
      "?          NaN\n",
      "g    59.000000\n",
      "h    56.000000\n",
      "m    31.813433\n",
      "w    28.725162\n",
      "Name: age, dtype: float64\n",
      "gender\n",
      "?          NaN\n",
      "g    59.000000\n",
      "h    56.000000\n",
      "m    31.813433\n",
      "w    28.725162\n",
      "Name: age, dtype: float64\n",
      "\n",
      "\n",
      "Task 4: Top 5 most common professions:\n",
      "Top 5 most common professions:\n",
      "profession\n",
      "laborer      3108\n",
      "married      1584\n",
      "spinster     1521\n",
      "widow        1053\n",
      "shoemaker     158\n",
      "Name: count, dtype: int64\n",
      "profession\n",
      "laborer      3108\n",
      "married      1584\n",
      "spinster     1521\n",
      "widow        1053\n",
      "shoemaker     158\n",
      "Name: count, dtype: int64\n"
     ]
    }
   ],
   "source": [
    "# Task 1: Sorted column names by missing values\n",
    "print(\"Task 1: Sorted column names by missing values:\")\n",
    "sorted_columns = task_1()\n",
    "print(sorted_columns)\n",
    "print(\"\\n\")\n",
    "\n",
    "# Task 2: Yearly total admissions\n",
    "print(\"Task 2: Yearly total admissions:\")\n",
    "total_admissions = task_2()\n",
    "print(total_admissions)\n",
    "print(\"\\n\")\n",
    "\n",
    "# Task 3: Average age by gender\n",
    "print(\"Task 3: Average age by gender:\")\n",
    "avg_age_by_gender = task_3()\n",
    "print(avg_age_by_gender)\n",
    "print(\"\\n\")\n",
    "\n",
    "# Task 4: Top 5 most common professions\n",
    "print(\"Task 4: Top 5 most common professions:\")\n",
    "most_common_professions = task_4()\n",
    "print(most_common_professions)"
   ]
  }
 ],
 "metadata": {
  "kernelspec": {
   "display_name": "base",
   "language": "python",
   "name": "python3"
  },
  "language_info": {
   "codemirror_mode": {
    "name": "ipython",
    "version": 3
   },
   "file_extension": ".py",
   "mimetype": "text/x-python",
   "name": "python",
   "nbconvert_exporter": "python",
   "pygments_lexer": "ipython3",
   "version": "3.11.13"
  }
 },
 "nbformat": 4,
 "nbformat_minor": 5
}
